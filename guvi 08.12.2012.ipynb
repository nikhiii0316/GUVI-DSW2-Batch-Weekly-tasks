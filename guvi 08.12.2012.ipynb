{
 "cells": [
  {
   "cell_type": "markdown",
   "id": "81a49f35",
   "metadata": {},
   "source": [
    "# GUVI DSW2 (08.12.2021) Task"
   ]
  },
  {
   "cell_type": "markdown",
   "id": "57c2bb83",
   "metadata": {},
   "source": [
    "# 1.Celsius to Fahrenheit "
   ]
  },
  {
   "cell_type": "code",
   "execution_count": null,
   "id": "3bdc337f",
   "metadata": {},
   "outputs": [],
   "source": [
    "temp = int(input('Enter Celsius :'))\n",
    "far = 1.8*(temp)+32\n",
    "print('The Fahrenheit is', round(far,2))"
   ]
  },
  {
   "cell_type": "markdown",
   "id": "f7d829bd",
   "metadata": {},
   "source": [
    "# 2.Fibonacci sequence"
   ]
  },
  {
   "cell_type": "code",
   "execution_count": null,
   "id": "94140567",
   "metadata": {},
   "outputs": [],
   "source": [
    "nterms = int(input(\"How many terms? \"))\n",
    "\n",
    "n1, n2 = 0, 1\n",
    "count = 0\n",
    "\n",
    "if nterms <= 0:\n",
    "   print(\"Please enter a positive integer\")\n",
    "elif nterms == 1:\n",
    "   print(\"Fibonacci sequence upto\",nterms,\":\")\n",
    "   print(n1)\n",
    "else:\n",
    "   print(\"Fibonacci sequence:\")\n",
    "   while count < nterms:\n",
    "       print(n1)\n",
    "       nth = n1 + n2\n",
    "       n1 = n2\n",
    "       n2 = nth\n",
    "       count += 1"
   ]
  },
  {
   "cell_type": "markdown",
   "id": "c5469e90",
   "metadata": {},
   "source": [
    "# 3.LCM And HCF"
   ]
  },
  {
   "cell_type": "code",
   "execution_count": null,
   "id": "bb7f3c2f",
   "metadata": {},
   "outputs": [],
   "source": [
    "num1 = int(input('Enter num1:'))\n",
    "num2 = int(input('Enter num2:'))\n",
    "\n",
    "a = num1\n",
    "b = num2\n",
    "while b!=0:\n",
    "    temp = b\n",
    "    b = a%b\n",
    "    a = temp\n",
    "\n",
    "hcf = a\n",
    "lcm = int((num1*num2)/hcf)\n",
    "\n",
    "print(\"\\nLCM (\" + str(num1) + \", \" + str(num2) + \") = \", lcm)\n",
    "print(\"HCF (\" + str(num1) + \", \" + str(num2) + \") = \", hcf)"
   ]
  },
  {
   "cell_type": "code",
   "execution_count": null,
   "id": "f136c3b8",
   "metadata": {},
   "outputs": [],
   "source": []
  }
 ],
 "metadata": {
  "kernelspec": {
   "display_name": "Python 3 (ipykernel)",
   "language": "python",
   "name": "python3"
  },
  "language_info": {
   "codemirror_mode": {
    "name": "ipython",
    "version": 3
   },
   "file_extension": ".py",
   "mimetype": "text/x-python",
   "name": "python",
   "nbconvert_exporter": "python",
   "pygments_lexer": "ipython3",
   "version": "3.10.0"
  }
 },
 "nbformat": 4,
 "nbformat_minor": 5
}
